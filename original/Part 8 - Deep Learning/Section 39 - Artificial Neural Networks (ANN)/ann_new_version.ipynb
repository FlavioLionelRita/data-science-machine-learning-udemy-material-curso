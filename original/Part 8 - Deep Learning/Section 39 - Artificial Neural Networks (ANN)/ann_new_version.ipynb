{
 "cells": [
  {
   "cell_type": "markdown",
   "metadata": {
    "colab_type": "text",
    "id": "3yFpBwmNz70v"
   },
   "source": [
    "# Redes Neuronales Artificiales\n",
    "\n",
    "## Instalar dependencias\n",
    "\n",
    "```sh\n",
    "pip install scikit-learn\n",
    "# pip install --upgrade --no-deps git+git://github.com/Theano/Theano.git\n",
    "pip install tensorflow\n",
    "pip install keras\n",
    "```"
   ]
  },
  {
   "cell_type": "markdown",
   "metadata": {
    "colab_type": "text",
    "id": "v8OxSXXSz-OP"
   },
   "source": [
    "# Cómo importar las librerías\n"
   ]
  },
  {
   "cell_type": "code",
   "execution_count": 1,
   "metadata": {
    "colab": {},
    "colab_type": "code",
    "id": "edZX51YLzs59"
   },
   "outputs": [],
   "source": [
    "import numpy as np\n",
    "import matplotlib.pyplot as plt\n",
    "import pandas as pd"
   ]
  },
  {
   "cell_type": "markdown",
   "metadata": {
    "colab_type": "text",
    "id": "8XfXlqtF0B58"
   },
   "source": [
    "## Importar el data set\n"
   ]
  },
  {
   "cell_type": "code",
   "execution_count": 2,
   "metadata": {
    "colab": {},
    "colab_type": "code",
    "id": "-nnozsHsz_-N"
   },
   "outputs": [],
   "source": [
    "dataset = pd.read_csv('Churn_Modelling.csv')\n",
    "X = dataset.iloc[:, 3:13].values\n",
    "y = dataset.iloc[:, 13].values"
   ]
  },
  {
   "cell_type": "markdown",
   "metadata": {},
   "source": [
    "## Parte 1 - Pre procesado de datos"
   ]
  },
  {
   "cell_type": "markdown",
   "metadata": {
    "colab_type": "text",
    "id": "SsVEdPzf4XmV"
   },
   "source": [
    "## Codificar datos categóricos"
   ]
  },
  {
   "cell_type": "code",
   "execution_count": 3,
   "metadata": {
    "colab": {},
    "colab_type": "code",
    "id": "v9CtwK834bjy"
   },
   "outputs": [],
   "source": [
    "from sklearn.preprocessing import LabelEncoder, OneHotEncoder\n",
    "from sklearn.compose import ColumnTransformer\n",
    "\n",
    "labelencoder_X_1 = LabelEncoder()\n",
    "X[:, 1] = labelencoder_X_1.fit_transform(X[:, 1])\n",
    "labelencoder_X_2 = LabelEncoder()\n",
    "X[:, 2] = labelencoder_X_2.fit_transform(X[:, 2])\n",
    "onehotencoder = ColumnTransformer(\n",
    "    [('one_hot_encoder', OneHotEncoder(categories='auto'), [1])],   \n",
    "    remainder='passthrough'                        \n",
    ")\n",
    "X = onehotencoder.fit_transform(X)\n",
    "X = X[:, 1:]"
   ]
  },
  {
   "cell_type": "markdown",
   "metadata": {
    "colab_type": "text",
    "id": "5AH_uCEz68rb"
   },
   "source": [
    "## Dividir el data set en conjunto de entrenamiento y conjunto de testing"
   ]
  },
  {
   "cell_type": "code",
   "execution_count": 4,
   "metadata": {
    "colab": {
     "base_uri": "https://localhost:8080/",
     "height": 54
    },
    "colab_type": "code",
    "id": "oeuAy8LI69vi",
    "outputId": "10346439-d6ac-4abd-b5bb-033e9a284716"
   },
   "outputs": [],
   "source": [
    "from sklearn.model_selection import train_test_split\n",
    "X_train, X_test, y_train, y_test = train_test_split(X, y, test_size = 0.2, random_state = 0)"
   ]
  },
  {
   "cell_type": "markdown",
   "metadata": {},
   "source": [
    "# Escalado de variables"
   ]
  },
  {
   "cell_type": "code",
   "execution_count": 5,
   "metadata": {},
   "outputs": [],
   "source": [
    "from sklearn.preprocessing import StandardScaler\n",
    "sc_X = StandardScaler()\n",
    "X_train = sc_X.fit_transform(X_train)\n",
    "X_test = sc_X.transform(X_test)"
   ]
  },
  {
   "cell_type": "markdown",
   "metadata": {
    "colab_type": "text",
    "id": "cgweTaJ67BOB"
   },
   "source": [
    "## Parte 2 - Construir la RNA"
   ]
  },
  {
   "cell_type": "markdown",
   "metadata": {},
   "source": [
    "## Importar Keras y librerías adicionales\n"
   ]
  },
  {
   "cell_type": "code",
   "execution_count": 7,
   "metadata": {},
   "outputs": [],
   "source": [
    "import keras\n",
    "from keras.models import Sequential\n",
    "from keras.layers import Dense"
   ]
  },
  {
   "cell_type": "markdown",
   "metadata": {},
   "source": [
    "## Inicializar la RNA"
   ]
  },
  {
   "cell_type": "code",
   "execution_count": 8,
   "metadata": {},
   "outputs": [],
   "source": [
    "classifier = Sequential()"
   ]
  },
  {
   "cell_type": "markdown",
   "metadata": {},
   "source": [
    "## Añadir las capas de entrada y primera capa oculta\n"
   ]
  },
  {
   "cell_type": "code",
   "execution_count": 9,
   "metadata": {},
   "outputs": [],
   "source": [
    "classifier.add(Dense(units = 6, kernel_initializer = \"uniform\", activation = \"relu\", input_dim = 11))"
   ]
  },
  {
   "cell_type": "markdown",
   "metadata": {},
   "source": [
    "## Añadir la segunda capa oculta"
   ]
  },
  {
   "cell_type": "code",
   "execution_count": 10,
   "metadata": {},
   "outputs": [],
   "source": [
    "classifier.add(Dense(units = 6, kernel_initializer = \"uniform\",  activation = \"relu\"))"
   ]
  },
  {
   "cell_type": "markdown",
   "metadata": {},
   "source": [
    "## Añadir la capa de salida"
   ]
  },
  {
   "cell_type": "code",
   "execution_count": 11,
   "metadata": {},
   "outputs": [],
   "source": [
    "classifier.add(Dense(units = 1, kernel_initializer = \"uniform\",  activation = \"sigmoid\"))"
   ]
  },
  {
   "cell_type": "markdown",
   "metadata": {},
   "source": [
    "## Compilar la RNA"
   ]
  },
  {
   "cell_type": "code",
   "execution_count": 12,
   "metadata": {},
   "outputs": [],
   "source": [
    "classifier.compile(optimizer = \"adam\", loss = \"binary_crossentropy\", metrics = [\"accuracy\"])"
   ]
  },
  {
   "cell_type": "markdown",
   "metadata": {},
   "source": [
    "## Ajustamos la RNA al Conjunto de Entrenamiento"
   ]
  },
  {
   "cell_type": "code",
   "execution_count": 13,
   "metadata": {},
   "outputs": [
    {
     "name": "stdout",
     "output_type": "stream",
     "text": [
      "Epoch 1/100\n",
      "800/800 [==============================] - 1s 810us/step - loss: 0.5028 - accuracy: 0.7990\n",
      "Epoch 2/100\n",
      "800/800 [==============================] - 1s 634us/step - loss: 0.4126 - accuracy: 0.8206\n",
      "Epoch 3/100\n",
      "800/800 [==============================] - 1s 641us/step - loss: 0.3986 - accuracy: 0.8260\n",
      "Epoch 4/100\n",
      "800/800 [==============================] - 1s 626us/step - loss: 0.3887 - accuracy: 0.8303\n",
      "Epoch 5/100\n",
      "800/800 [==============================] - 1s 659us/step - loss: 0.3811 - accuracy: 0.8305\n",
      "Epoch 6/100\n",
      "800/800 [==============================] - 1s 688us/step - loss: 0.3760 - accuracy: 0.8375\n",
      "Epoch 7/100\n",
      "800/800 [==============================] - 0s 615us/step - loss: 0.3718 - accuracy: 0.8436\n",
      "Epoch 8/100\n",
      "800/800 [==============================] - 0s 620us/step - loss: 0.3687 - accuracy: 0.8474\n",
      "Epoch 9/100\n",
      "800/800 [==============================] - 1s 653us/step - loss: 0.3649 - accuracy: 0.8501\n",
      "Epoch 10/100\n",
      "800/800 [==============================] - 1s 644us/step - loss: 0.3625 - accuracy: 0.8525\n",
      "Epoch 11/100\n",
      "800/800 [==============================] - 1s 632us/step - loss: 0.3604 - accuracy: 0.8506\n",
      "Epoch 12/100\n",
      "800/800 [==============================] - 0s 616us/step - loss: 0.3592 - accuracy: 0.8533\n",
      "Epoch 13/100\n",
      "800/800 [==============================] - 1s 665us/step - loss: 0.3572 - accuracy: 0.8530\n",
      "Epoch 14/100\n",
      "800/800 [==============================] - 1s 717us/step - loss: 0.3557 - accuracy: 0.8550\n",
      "Epoch 15/100\n",
      "800/800 [==============================] - 1s 632us/step - loss: 0.3546 - accuracy: 0.8528\n",
      "Epoch 16/100\n",
      "800/800 [==============================] - 0s 622us/step - loss: 0.3536 - accuracy: 0.8541\n",
      "Epoch 17/100\n",
      "800/800 [==============================] - 1s 625us/step - loss: 0.3528 - accuracy: 0.8570\n",
      "Epoch 18/100\n",
      "800/800 [==============================] - 1s 645us/step - loss: 0.3534 - accuracy: 0.8540\n",
      "Epoch 19/100\n",
      "800/800 [==============================] - 1s 709us/step - loss: 0.3514 - accuracy: 0.8558\n",
      "Epoch 20/100\n",
      "800/800 [==============================] - 1s 674us/step - loss: 0.3508 - accuracy: 0.8575\n",
      "Epoch 21/100\n",
      "800/800 [==============================] - 1s 704us/step - loss: 0.3500 - accuracy: 0.8537\n",
      "Epoch 22/100\n",
      "800/800 [==============================] - 1s 649us/step - loss: 0.3503 - accuracy: 0.8555\n",
      "Epoch 23/100\n",
      "800/800 [==============================] - 1s 636us/step - loss: 0.3496 - accuracy: 0.8565\n",
      "Epoch 24/100\n",
      "800/800 [==============================] - 1s 627us/step - loss: 0.3484 - accuracy: 0.8590\n",
      "Epoch 25/100\n",
      "800/800 [==============================] - 1s 656us/step - loss: 0.3483 - accuracy: 0.8576\n",
      "Epoch 26/100\n",
      "800/800 [==============================] - 1s 632us/step - loss: 0.3477 - accuracy: 0.8584\n",
      "Epoch 27/100\n",
      "800/800 [==============================] - 1s 648us/step - loss: 0.3472 - accuracy: 0.8568\n",
      "Epoch 28/100\n",
      "800/800 [==============================] - 1s 671us/step - loss: 0.3462 - accuracy: 0.8572\n",
      "Epoch 29/100\n",
      "800/800 [==============================] - 1s 733us/step - loss: 0.3457 - accuracy: 0.8591\n",
      "Epoch 30/100\n",
      "800/800 [==============================] - 1s 741us/step - loss: 0.3448 - accuracy: 0.8576\n",
      "Epoch 31/100\n",
      "800/800 [==============================] - 1s 645us/step - loss: 0.3443 - accuracy: 0.8597\n",
      "Epoch 32/100\n",
      "800/800 [==============================] - 1s 644us/step - loss: 0.3448 - accuracy: 0.8570\n",
      "Epoch 33/100\n",
      "800/800 [==============================] - 1s 646us/step - loss: 0.3438 - accuracy: 0.8585\n",
      "Epoch 34/100\n",
      "800/800 [==============================] - 1s 639us/step - loss: 0.3433 - accuracy: 0.8584\n",
      "Epoch 35/100\n",
      "800/800 [==============================] - 1s 698us/step - loss: 0.3440 - accuracy: 0.8584\n",
      "Epoch 36/100\n",
      "800/800 [==============================] - 0s 620us/step - loss: 0.3437 - accuracy: 0.8597\n",
      "Epoch 37/100\n",
      "800/800 [==============================] - 1s 692us/step - loss: 0.3434 - accuracy: 0.8576\n",
      "Epoch 38/100\n",
      "800/800 [==============================] - 0s 622us/step - loss: 0.3429 - accuracy: 0.8585\n",
      "Epoch 39/100\n",
      "800/800 [==============================] - 1s 629us/step - loss: 0.3437 - accuracy: 0.8585\n",
      "Epoch 40/100\n",
      "800/800 [==============================] - 1s 627us/step - loss: 0.3426 - accuracy: 0.8593\n",
      "Epoch 41/100\n",
      "800/800 [==============================] - 1s 680us/step - loss: 0.3430 - accuracy: 0.8608\n",
      "Epoch 42/100\n",
      "800/800 [==============================] - 1s 625us/step - loss: 0.3421 - accuracy: 0.8612\n",
      "Epoch 43/100\n",
      "800/800 [==============================] - 1s 664us/step - loss: 0.3429 - accuracy: 0.8585\n",
      "Epoch 44/100\n",
      "800/800 [==============================] - 1s 639us/step - loss: 0.3426 - accuracy: 0.8594\n",
      "Epoch 45/100\n",
      "800/800 [==============================] - 1s 676us/step - loss: 0.3416 - accuracy: 0.8609\n",
      "Epoch 46/100\n",
      "800/800 [==============================] - 1s 823us/step - loss: 0.3428 - accuracy: 0.8590\n",
      "Epoch 47/100\n",
      "800/800 [==============================] - 1s 848us/step - loss: 0.3406 - accuracy: 0.8600\n",
      "Epoch 48/100\n",
      "800/800 [==============================] - 1s 828us/step - loss: 0.3417 - accuracy: 0.8591\n",
      "Epoch 49/100\n",
      "800/800 [==============================] - 1s 1ms/step - loss: 0.3423 - accuracy: 0.8602\n",
      "Epoch 50/100\n",
      "800/800 [==============================] - 1s 1ms/step - loss: 0.3411 - accuracy: 0.8609\n",
      "Epoch 51/100\n",
      "800/800 [==============================] - 1s 828us/step - loss: 0.3412 - accuracy: 0.8591\n",
      "Epoch 52/100\n",
      "800/800 [==============================] - 1s 832us/step - loss: 0.3416 - accuracy: 0.8593\n",
      "Epoch 53/100\n",
      "800/800 [==============================] - 1s 905us/step - loss: 0.3412 - accuracy: 0.8577\n",
      "Epoch 54/100\n",
      "800/800 [==============================] - 1s 814us/step - loss: 0.3407 - accuracy: 0.8596\n",
      "Epoch 55/100\n",
      "800/800 [==============================] - 1s 864us/step - loss: 0.3402 - accuracy: 0.8602\n",
      "Epoch 56/100\n",
      "800/800 [==============================] - 1s 888us/step - loss: 0.3410 - accuracy: 0.8608\n",
      "Epoch 57/100\n",
      "800/800 [==============================] - 1s 862us/step - loss: 0.3403 - accuracy: 0.8612\n",
      "Epoch 58/100\n",
      "800/800 [==============================] - 1s 803us/step - loss: 0.3409 - accuracy: 0.8586\n",
      "Epoch 59/100\n",
      "800/800 [==============================] - 1s 801us/step - loss: 0.3398 - accuracy: 0.8605\n",
      "Epoch 60/100\n",
      "800/800 [==============================] - 1s 783us/step - loss: 0.3404 - accuracy: 0.8594\n",
      "Epoch 61/100\n",
      "800/800 [==============================] - 1s 847us/step - loss: 0.3396 - accuracy: 0.8624\n",
      "Epoch 62/100\n",
      "800/800 [==============================] - 1s 913us/step - loss: 0.3392 - accuracy: 0.8599\n",
      "Epoch 63/100\n",
      "800/800 [==============================] - 1s 826us/step - loss: 0.3393 - accuracy: 0.8599\n",
      "Epoch 64/100\n",
      "800/800 [==============================] - 1s 1ms/step - loss: 0.3398 - accuracy: 0.8594\n",
      "Epoch 65/100\n",
      "800/800 [==============================] - 1s 843us/step - loss: 0.3391 - accuracy: 0.8600\n",
      "Epoch 66/100\n",
      "800/800 [==============================] - 1s 780us/step - loss: 0.3397 - accuracy: 0.8602\n",
      "Epoch 67/100\n",
      "800/800 [==============================] - 1s 858us/step - loss: 0.3385 - accuracy: 0.8619\n",
      "Epoch 68/100\n",
      "800/800 [==============================] - 1s 966us/step - loss: 0.3380 - accuracy: 0.8606\n",
      "Epoch 69/100\n",
      "800/800 [==============================] - 1s 865us/step - loss: 0.3387 - accuracy: 0.8622\n",
      "Epoch 70/100\n",
      "800/800 [==============================] - 1s 843us/step - loss: 0.3394 - accuracy: 0.8620\n",
      "Epoch 71/100\n",
      "800/800 [==============================] - 1s 918us/step - loss: 0.3385 - accuracy: 0.8615\n",
      "Epoch 72/100\n",
      "800/800 [==============================] - 1s 899us/step - loss: 0.3386 - accuracy: 0.8599\n",
      "Epoch 73/100\n",
      "800/800 [==============================] - 1s 980us/step - loss: 0.3383 - accuracy: 0.8599\n",
      "Epoch 74/100\n",
      "800/800 [==============================] - 1s 901us/step - loss: 0.3379 - accuracy: 0.8610\n",
      "Epoch 75/100\n",
      "800/800 [==============================] - 1s 916us/step - loss: 0.3377 - accuracy: 0.8600\n",
      "Epoch 76/100\n",
      "800/800 [==============================] - 1s 995us/step - loss: 0.3386 - accuracy: 0.8618\n",
      "Epoch 77/100\n",
      "800/800 [==============================] - 1s 851us/step - loss: 0.3379 - accuracy: 0.8608\n",
      "Epoch 78/100\n",
      "800/800 [==============================] - 1s 2ms/step - loss: 0.3384 - accuracy: 0.8596\n",
      "Epoch 79/100\n",
      "800/800 [==============================] - 1s 2ms/step - loss: 0.3387 - accuracy: 0.8587\n",
      "Epoch 80/100\n",
      "800/800 [==============================] - 1s 1ms/step - loss: 0.3381 - accuracy: 0.8600\n",
      "Epoch 81/100\n",
      "800/800 [==============================] - 1s 1ms/step - loss: 0.3378 - accuracy: 0.8608\n",
      "Epoch 82/100\n",
      "800/800 [==============================] - 1s 1ms/step - loss: 0.3378 - accuracy: 0.8601\n",
      "Epoch 83/100\n",
      "800/800 [==============================] - 1s 914us/step - loss: 0.3378 - accuracy: 0.8596\n",
      "Epoch 84/100\n",
      "800/800 [==============================] - 1s 740us/step - loss: 0.3378 - accuracy: 0.8606\n",
      "Epoch 85/100\n",
      "800/800 [==============================] - 1s 747us/step - loss: 0.3372 - accuracy: 0.8601\n",
      "Epoch 86/100\n",
      "800/800 [==============================] - 1s 768us/step - loss: 0.3377 - accuracy: 0.8620\n",
      "Epoch 87/100\n",
      "800/800 [==============================] - 1s 890us/step - loss: 0.3380 - accuracy: 0.8594\n",
      "Epoch 88/100\n",
      "800/800 [==============================] - 1s 890us/step - loss: 0.3379 - accuracy: 0.8605\n",
      "Epoch 89/100\n",
      "800/800 [==============================] - 1s 895us/step - loss: 0.3375 - accuracy: 0.8629\n",
      "Epoch 90/100\n",
      "800/800 [==============================] - 1s 817us/step - loss: 0.3375 - accuracy: 0.8604\n",
      "Epoch 91/100\n",
      "800/800 [==============================] - 1s 842us/step - loss: 0.3379 - accuracy: 0.8597\n",
      "Epoch 92/100\n",
      "800/800 [==============================] - 1s 865us/step - loss: 0.3378 - accuracy: 0.8608\n",
      "Epoch 93/100\n",
      "800/800 [==============================] - 1s 887us/step - loss: 0.3372 - accuracy: 0.8597\n",
      "Epoch 94/100\n",
      "800/800 [==============================] - 1s 816us/step - loss: 0.3371 - accuracy: 0.8620\n",
      "Epoch 95/100\n",
      "800/800 [==============================] - 1s 836us/step - loss: 0.3378 - accuracy: 0.8599\n",
      "Epoch 96/100\n",
      "800/800 [==============================] - 1s 907us/step - loss: 0.3378 - accuracy: 0.8587\n",
      "Epoch 97/100\n",
      "800/800 [==============================] - 1s 801us/step - loss: 0.3371 - accuracy: 0.8614\n",
      "Epoch 98/100\n",
      "800/800 [==============================] - 1s 867us/step - loss: 0.3372 - accuracy: 0.8597\n",
      "Epoch 99/100\n",
      "800/800 [==============================] - 1s 897us/step - loss: 0.3375 - accuracy: 0.8604\n",
      "Epoch 100/100\n",
      "800/800 [==============================] - 1s 858us/step - loss: 0.3365 - accuracy: 0.8611\n"
     ]
    },
    {
     "data": {
      "text/plain": [
       "<keras.src.callbacks.History at 0x7effd41ac4c0>"
      ]
     },
     "execution_count": 13,
     "metadata": {},
     "output_type": "execute_result"
    }
   ],
   "source": [
    "classifier.fit(X_train, y_train,  batch_size = 10, epochs = 100)"
   ]
  },
  {
   "cell_type": "markdown",
   "metadata": {},
   "source": [
    "## Parte 3 - Evaluar el modelo y calcular predicciones finales"
   ]
  },
  {
   "cell_type": "markdown",
   "metadata": {},
   "source": [
    "## Predicción de los resultados con el Conjunto de Testing"
   ]
  },
  {
   "cell_type": "code",
   "execution_count": 14,
   "metadata": {},
   "outputs": [
    {
     "name": "stdout",
     "output_type": "stream",
     "text": [
      "63/63 [==============================] - 0s 730us/step\n"
     ]
    }
   ],
   "source": [
    "y_pred  = classifier.predict(X_test)\n",
    "y_pred = (y_pred>0.5)"
   ]
  },
  {
   "cell_type": "markdown",
   "metadata": {},
   "source": [
    "# Elaborar una matriz de confusión"
   ]
  },
  {
   "cell_type": "code",
   "execution_count": 16,
   "metadata": {},
   "outputs": [
    {
     "name": "stdout",
     "output_type": "stream",
     "text": [
      "[[1499   96]\n",
      " [ 185  220]]\n"
     ]
    }
   ],
   "source": [
    "from sklearn.metrics import confusion_matrix\n",
    "cm = confusion_matrix(y_test, y_pred)\n",
    "print(cm)"
   ]
  }
 ],
 "metadata": {
  "colab": {
   "collapsed_sections": [],
   "name": "multiple_linear_regression_new_version.ipynb",
   "provenance": [],
   "toc_visible": true
  },
  "kernelspec": {
   "display_name": "Python 3",
   "language": "python",
   "name": "python3"
  },
  "language_info": {
   "codemirror_mode": {
    "name": "ipython",
    "version": 3
   },
   "file_extension": ".py",
   "mimetype": "text/x-python",
   "name": "python",
   "nbconvert_exporter": "python",
   "pygments_lexer": "ipython3",
   "version": "3.10.12"
  }
 },
 "nbformat": 4,
 "nbformat_minor": 1
}
