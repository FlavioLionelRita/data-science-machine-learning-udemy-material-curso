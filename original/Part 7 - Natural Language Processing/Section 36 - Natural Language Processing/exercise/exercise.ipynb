{
 "cells": [
  {
   "cell_type": "markdown",
   "metadata": {
    "colab_type": "text",
    "id": "3yFpBwmNz70v"
   },
   "source": [
    "# Natural Language Processing"
   ]
  },
  {
   "cell_type": "markdown",
   "metadata": {
    "colab_type": "text",
    "id": "v8OxSXXSz-OP"
   },
   "source": [
    "## Cómo importar las librerías\n"
   ]
  },
  {
   "cell_type": "code",
   "execution_count": 1,
   "metadata": {
    "colab": {},
    "colab_type": "code",
    "id": "edZX51YLzs59"
   },
   "outputs": [],
   "source": [
    "import numpy as np\n",
    "import matplotlib.pyplot as plt\n",
    "import pandas as pd"
   ]
  },
  {
   "cell_type": "markdown",
   "metadata": {
    "colab_type": "text",
    "id": "8XfXlqtF0B58"
   },
   "source": [
    "# Importar el data set\n"
   ]
  },
  {
   "cell_type": "code",
   "execution_count": 3,
   "metadata": {
    "colab": {},
    "colab_type": "code",
    "id": "-nnozsHsz_-N"
   },
   "outputs": [],
   "source": [
    "dataset = pd.read_csv(\"Restaurant_Reviews.tsv\", delimiter = \"\\t\", quoting = 3)"
   ]
  },
  {
   "cell_type": "markdown",
   "metadata": {
    "colab_type": "text",
    "id": "SsVEdPzf4XmV"
   },
   "source": [
    "## Limpieza de texto"
   ]
  },
  {
   "cell_type": "code",
   "execution_count": 4,
   "metadata": {
    "colab": {},
    "colab_type": "code",
    "id": "v9CtwK834bjy"
   },
   "outputs": [
    {
     "name": "stderr",
     "output_type": "stream",
     "text": [
      "[nltk_data] Downloading package stopwords to /home/flavio/nltk_data...\n",
      "[nltk_data]   Package stopwords is already up-to-date!\n"
     ]
    }
   ],
   "source": [
    "import re\n",
    "import nltk\n",
    "nltk.download('stopwords')\n",
    "from nltk.corpus import stopwords\n",
    "from nltk.stem.porter import PorterStemmer\n",
    "corpus = []\n",
    "for i in range(0, 1000):\n",
    "    review = re.sub('[^a-zA-Z]', ' ', dataset['Review'][i])\n",
    "    review = review.lower().split()\n",
    "    ps = PorterStemmer()\n",
    "    review = [ps.stem(word) for word in review if not word in set(stopwords.words('english'))]\n",
    "    review = ' '.join(review)\n",
    "    corpus.append(review)"
   ]
  },
  {
   "cell_type": "markdown",
   "metadata": {
    "colab_type": "text",
    "id": "5AH_uCEz68rb"
   },
   "source": [
    "## Crear el Bag of Words"
   ]
  },
  {
   "cell_type": "code",
   "execution_count": 5,
   "metadata": {
    "colab": {
     "base_uri": "https://localhost:8080/",
     "height": 54
    },
    "colab_type": "code",
    "id": "oeuAy8LI69vi",
    "outputId": "10346439-d6ac-4abd-b5bb-033e9a284716"
   },
   "outputs": [],
   "source": [
    "from sklearn.feature_extraction.text import CountVectorizer\n",
    "cv = CountVectorizer(max_features = 1500)\n",
    "X = cv.fit_transform(corpus).toarray()\n",
    "y = dataset.iloc[:, 1].values"
   ]
  },
  {
   "cell_type": "markdown",
   "metadata": {
    "colab_type": "text",
    "id": "cgweTaJ67BOB"
   },
   "source": [
    "## Dividir el data set en conjunto de entrenamiento y conjunto de testing"
   ]
  },
  {
   "cell_type": "code",
   "execution_count": 6,
   "metadata": {},
   "outputs": [],
   "source": [
    "from sklearn.model_selection import train_test_split\n",
    "X_train, X_test, y_train, y_test = train_test_split(X, y, test_size = 0.20, random_state = 0)"
   ]
  },
  {
   "cell_type": "markdown",
   "metadata": {},
   "source": [
    "## Ejercicio\n",
    "\n",
    "Ejecuta los otros algoritmos de clasificación que elaboramos en la Parte 3 - Clasificación, además del que ya he usado en esta última clase de la sección.\n",
    "\n",
    "### Instrucciones de tareas\n",
    "\n",
    "Lee los enunciados e intenta hacer los ejercicios. Envía tu resultado de cada uno de ellos y tanto nosotros como los otros estudiantes te daremos feedback. El objetivo es intentar adivinar cuál de todos los modelos que vas a aplicar durante esta sección nos da el mejor resultado de clasificación de las valoraciones del restaurante. Así que a por ello!\n",
    "\n",
    "### Preguntas de esta tarea\n",
    "\n",
    "Ejecuta los otros algoritmos de clasificación que elaboramos en la Parte 3 - Clasificación, además del que ya he usado en esta última clase de la sección.\n",
    "\n",
    "Evalúa la eficacia de todos estos modelos. \\\n",
    "Intenta mejorar la Accuracy (exactitud) obtenida en la clase anterior. Recuerda también que la Accuracy no es suficiente, también hay que mirar otras métricas como por ejemplo\n",
    "\n",
    "- Accuracy, la exactitud de la predicción: (TP+TN)/(TP+TN+FP+FN)\n",
    "- Precision, medida de la precisión del algoritmo para la clase positiva: TP/(TP+FP)\n",
    "- Recall, medida de la completitud del algoritmo: TP/(TP+FN)\n",
    "- F1 Score, compromiso entre la precisión y la completitud: 2*Precision*Recall/(Precision+Recall)\n",
    "\n",
    "Os recuerdo que TP = #Verdaderos Positivos, TN =#Verdaderos Negativos, FP = #Falsos Positivos y FN = #Falsos Negativos\n",
    "\n",
    "Intenta otros algoritmos de clasificación que no hemos cubierto en la Parte 3 - Clasificación. Los buenos para NLP incluyen:\n",
    "\n",
    "- CART\n",
    "- C5.0\n",
    "- Máxima Entropía\n"
   ]
  },
  {
   "cell_type": "code",
   "execution_count": 14,
   "metadata": {},
   "outputs": [],
   "source": []
  },
  {
   "cell_type": "markdown",
   "metadata": {},
   "source": [
    "## Algoritmos de clasificación"
   ]
  },
  {
   "cell_type": "code",
   "execution_count": 33,
   "metadata": {},
   "outputs": [],
   "source": [
    "from sklearn.svm import SVC\n",
    "from sklearn.linear_model import LogisticRegression\n",
    "from sklearn.neighbors import KNeighborsClassifier\n",
    "from sklearn.naive_bayes import GaussianNB\n",
    "from sklearn.tree import DecisionTreeClassifier\n",
    "from sklearn.ensemble import RandomForestClassifier\n",
    "from sklearn.metrics import confusion_matrix\n",
    "\n",
    "def obtener_resultados(y_test, y_pred):\n",
    "    # Elaborar una matriz de confusión\n",
    "    cm = confusion_matrix(y_test, y_pred)\n",
    "    TP = cm[0][0]\n",
    "    TN = cm[1][1]\n",
    "    FP = cm[0][1]\n",
    "    FN = cm[1][0]\n",
    "    Total = TP+TN+FP+FN\n",
    "    result = { 'Accuracy': round((TP+TN)/Total,4) , 'Precision': round(TP/(TP+FP),4), 'Recall': round(TP/(TP+FN),2) }\n",
    "    result['F1Score'] = round( 2*result['Precision']*result['Recall']/(result['Precision']+result['Recall']),4)\n",
    "    result['Matriz'] = cm\n",
    "    return result\n",
    "\n",
    "def logisticRegression(X_train, y_train, X_test):    \n",
    "    classifier = LogisticRegression(random_state = 0)\n",
    "    classifier.fit(X_train, y_train)\n",
    "    return classifier.predict(X_test)\n",
    "\n",
    "def neighborsClassifier(X_train, y_train, X_test):    \n",
    "    classifier = KNeighborsClassifier(n_neighbors = 5, metric = 'minkowski', p = 2)\n",
    "    classifier.fit(X_train, y_train)\n",
    "    return classifier.predict(X_test)\n",
    "\n",
    "def kernelSvcRbf(X_train, y_train, X_test):\n",
    "    classifier = SVC(kernel = \"rbf\", random_state = 0)\n",
    "    classifier.fit(X_train, y_train)\n",
    "    return classifier.predict(X_test)\n",
    "\n",
    "def kernelSvcLinear(X_train, y_train, X_test):\n",
    "    classifier = SVC(kernel = \"linear\", random_state = 0)\n",
    "    classifier.fit(X_train, y_train)\n",
    "    return classifier.predict(X_test)\n",
    "\n",
    "def naiveBayes(X_train, y_train, X_test):\n",
    "    classifier = GaussianNB()\n",
    "    classifier.fit(X_train, y_train)\n",
    "    return classifier.predict(X_test)\n",
    "\n",
    "def decisionTree(X_train, y_train, X_test):   \n",
    "    classifier = DecisionTreeClassifier(criterion = 'entropy', random_state = 0)\n",
    "    classifier.fit(X_train, y_train)\n",
    "    return classifier.predict(X_test)\n",
    "\n",
    "def randomForest(X_train, y_train, X_test):    \n",
    "    classifier = RandomForestClassifier(n_estimators = 10, criterion = 'entropy', random_state = 0)\n",
    "    classifier.fit(X_train, y_train)\n",
    "    return classifier.predict(X_test)\n",
    "\n",
    "def decisionTreeClassifierGini(X_train, y_train, X_test):    \n",
    "    classifier = DecisionTreeClassifier(criterion = 'gini',max_depth=None, random_state = 0)\n",
    "    classifier.fit(X_train, y_train)\n",
    "    return classifier.predict(X_test)\n",
    "\n",
    "def maxEntropies(X_train, y_train, X_test):    \n",
    "    classifier = LogisticRegression(penalty='l2', C=1, solver='lbfgs', multi_class='multinomial', max_iter=1000, random_state=42)\n",
    "    classifier.fit(X_train, y_train)\n",
    "    return classifier.predict(X_test)"
   ]
  },
  {
   "cell_type": "markdown",
   "metadata": {},
   "source": [
    "## Cálculos por cada algoritmo"
   ]
  },
  {
   "cell_type": "code",
   "execution_count": 34,
   "metadata": {},
   "outputs": [],
   "source": [
    "results = []\n",
    "y_pred = logisticRegression(X_train, y_train, X_test)\n",
    "result = obtener_resultados(y_test, y_pred)\n",
    "result['Model'] = 'LogisticRegression'\n",
    "results.append(result)\n",
    "y_pred = neighborsClassifier(X_train, y_train, X_test)\n",
    "result = obtener_resultados(y_test, y_pred)\n",
    "result['Model'] = 'KNeighborsClassifier'\n",
    "y_pred = kernelSvcRbf(X_train, y_train, X_test)\n",
    "result = obtener_resultados(y_test, y_pred)\n",
    "result['Model'] = 'SVC RBF'\n",
    "results.append(result)\n",
    "y_pred = kernelSvcLinear(X_train, y_train, X_test)\n",
    "result = obtener_resultados(y_test, y_pred)\n",
    "result['Model'] = 'SVC Linear'\n",
    "results.append(result)\n",
    "y_pred = naiveBayes(X_train, y_train, X_test)\n",
    "result = obtener_resultados(y_test, y_pred)\n",
    "result['Model'] = 'GaussianNB'\n",
    "results.append(result)\n",
    "y_pred = decisionTree(X_train, y_train, X_test)\n",
    "result = obtener_resultados(y_test, y_pred)\n",
    "result['Model'] = 'DecisionTree'\n",
    "results.append(result)\n",
    "y_pred = randomForest(X_train, y_train, X_test)\n",
    "result = obtener_resultados(y_test, y_pred)\n",
    "result['Model'] = 'RandomForest'\n",
    "results.append(result)\n",
    "y_pred = decisionTreeClassifierGini(X_train, y_train, X_test)\n",
    "result = obtener_resultados(y_test, y_pred)\n",
    "result['Model'] = 'DecisionTreeGini'\n",
    "results.append(result)\n",
    "y_pred = maxEntropies(X_train, y_train, X_test)\n",
    "result = obtener_resultados(y_test, y_pred)\n",
    "result['Model'] = 'MaxEntropies'\n",
    "results.append(result)"
   ]
  },
  {
   "cell_type": "markdown",
   "metadata": {},
   "source": [
    "## Visualización de los resultados"
   ]
  },
  {
   "cell_type": "code",
   "execution_count": 35,
   "metadata": {},
   "outputs": [
    {
     "name": "stdout",
     "output_type": "stream",
     "text": [
      "                Model  Accuracy  Precision  Recall  F1Score  \\\n",
      "0  LogisticRegression     0.715     0.7835    0.68   0.7281   \n",
      "1             SVC RBF     0.730     0.9278    0.66   0.7713   \n",
      "2          SVC Linear     0.715     0.7526    0.69   0.7199   \n",
      "3          GaussianNB     0.730     0.5670    0.82   0.6704   \n",
      "4        DecisionTree     0.705     0.7732    0.67   0.7179   \n",
      "5        RandomForest     0.705     0.8763    0.64   0.7397   \n",
      "6    DecisionTreeGini     0.685     0.7526    0.65   0.6975   \n",
      "7        MaxEntropies     0.720     0.7732    0.69   0.7292   \n",
      "\n",
      "                 Matriz  \n",
      "0  [[76, 21], [36, 67]]  \n",
      "1   [[90, 7], [47, 56]]  \n",
      "2  [[73, 24], [33, 70]]  \n",
      "3  [[55, 42], [12, 91]]  \n",
      "4  [[75, 22], [37, 66]]  \n",
      "5  [[85, 12], [47, 56]]  \n",
      "6  [[73, 24], [39, 64]]  \n",
      "7  [[75, 22], [34, 69]]  \n"
     ]
    }
   ],
   "source": [
    "dfResult = pd.DataFrame(results)\n",
    "dfResult = dfResult[['Model', 'Accuracy', 'Precision', 'Recall', 'F1Score', 'Matriz']]\n",
    "print(dfResult)"
   ]
  }
 ],
 "metadata": {
  "colab": {
   "collapsed_sections": [],
   "name": "multiple_linear_regression_new_version.ipynb",
   "provenance": [],
   "toc_visible": true
  },
  "kernelspec": {
   "display_name": "Python 3",
   "language": "python",
   "name": "python3"
  },
  "language_info": {
   "codemirror_mode": {
    "name": "ipython",
    "version": 3
   },
   "file_extension": ".py",
   "mimetype": "text/x-python",
   "name": "python",
   "nbconvert_exporter": "python",
   "pygments_lexer": "ipython3",
   "version": "3.10.12"
  }
 },
 "nbformat": 4,
 "nbformat_minor": 1
}
