{
 "cells": [
  {
   "cell_type": "markdown",
   "metadata": {
    "colab_type": "text",
    "id": "3yFpBwmNz70v"
   },
   "source": [
    "# Escalado de variables"
   ]
  },
  {
   "cell_type": "markdown",
   "metadata": {
    "colab_type": "text",
    "id": "v8OxSXXSz-OP"
   },
   "source": [
    "## Cómo importar las librerías\n"
   ]
  },
  {
   "cell_type": "code",
   "execution_count": 145,
   "metadata": {
    "colab": {},
    "colab_type": "code",
    "id": "edZX51YLzs59"
   },
   "outputs": [],
   "source": [
    "import numpy as np\n",
    "import pandas as pd\n",
    "\n",
    "# Establecer opciones de impresión para NumPy\n",
    "np.set_printoptions(precision=3, suppress=True, formatter={'float_kind': '{:0.3f}'.format})"
   ]
  },
  {
   "cell_type": "markdown",
   "metadata": {
    "colab_type": "text",
    "id": "8XfXlqtF0B58"
   },
   "source": [
    "## Importar el data set\n"
   ]
  },
  {
   "cell_type": "code",
   "execution_count": 146,
   "metadata": {
    "colab": {},
    "colab_type": "code",
    "id": "-nnozsHsz_-N"
   },
   "outputs": [],
   "source": [
    "dataset = pd.read_csv('Data.csv')\n",
    "x = dataset.iloc[:, :-1].values\n",
    "y = dataset.iloc[:, 3].values\n"
   ]
  },
  {
   "cell_type": "markdown",
   "metadata": {},
   "source": [
    "## Codificar datos categóricos"
   ]
  },
  {
   "cell_type": "code",
   "execution_count": 148,
   "metadata": {},
   "outputs": [
    {
     "data": {
      "text/plain": [
       "array([[0.000, 1.000, 0.000, 0.000, 44.000, inf],\n",
       "       [1.000, 0.000, 0.000, 1.000, 27.000, 48000.000],\n",
       "       [1.000, 0.000, 1.000, 0.000, 30.000, 54016.000],\n",
       "       [1.000, 0.000, 0.000, 1.000, 38.000, 60992.000],\n",
       "       [1.000, 0.000, 1.000, 0.000, 40.000, 63776.000],\n",
       "       [0.000, 1.000, 0.000, 0.000, 35.000, 57984.000],\n",
       "       [1.000, 0.000, 0.000, 1.000, 38.781, 52000.000],\n",
       "       [0.000, 1.000, 0.000, 0.000, 48.000, inf],\n",
       "       [1.000, 0.000, 1.000, 0.000, 50.000, inf],\n",
       "       [0.000, 1.000, 0.000, 0.000, 37.000, inf]], dtype=float16)"
      ]
     },
     "metadata": {},
     "output_type": "display_data"
    }
   ],
   "source": [
    "from sklearn.preprocessing import LabelEncoder, OneHotEncoder\n",
    "from sklearn.compose import ColumnTransformer\n",
    "from sklearn.impute import SimpleImputer\n",
    "imputer = SimpleImputer(missing_values=np.nan, strategy='mean')\n",
    "x[:, 1:3] = imputer.fit_transform(x[:, 1:3])\n",
    "labelEncoder_X = LabelEncoder()\n",
    "x[:, 0] = labelEncoder_X.fit_transform(x[:, 0])\n",
    "ct = ColumnTransformer(\n",
    "    [('one_hot_encoder', OneHotEncoder(categories='auto'), [0])],    # The column numbers to be transformed (here is [0] but can be [0, 1, 3])\n",
    "    remainder='passthrough'                         # Leave the rest of the columns untouched\n",
    ")\n",
    "x = np.array(ct.fit_transform(x), dtype=np.float16)\n",
    "labelEncoder_y = LabelEncoder()\n",
    "y = labelEncoder_y.fit_transform(y)\n",
    "\n",
    "\n",
    "display(x)"
   ]
  },
  {
   "cell_type": "markdown",
   "metadata": {},
   "source": [
    "## Escalado de variables"
   ]
  },
  {
   "cell_type": "code",
   "execution_count": 149,
   "metadata": {},
   "outputs": [
    {
     "name": "stdout",
     "output_type": "stream",
     "text": [
      "original:\n"
     ]
    },
    {
     "data": {
      "text/plain": [
       "array([[0.000, 1.000, 0.000, -0.655, 0.759, inf],\n",
       "       [1.000, 0.000, 0.000, 1.528, -1.712, 48000.000],\n",
       "       [1.000, 0.000, 1.000, -0.655, -1.276, 54016.000],\n",
       "       [1.000, 0.000, 0.000, 1.528, -0.113, 60992.000],\n",
       "       [1.000, 0.000, 1.000, -0.655, 0.177, 63776.000],\n",
       "       [0.000, 1.000, 0.000, -0.655, -0.549, 57984.000],\n",
       "       [1.000, 0.000, 0.000, 1.528, 0.000, 52000.000],\n",
       "       [0.000, 1.000, 0.000, -0.655, 1.340, inf],\n",
       "       [1.000, 0.000, 1.000, -0.655, 1.630, inf],\n",
       "       [0.000, 1.000, 0.000, -0.655, -0.258, inf]], dtype=float16)"
      ]
     },
     "metadata": {},
     "output_type": "display_data"
    }
   ],
   "source": [
    "from sklearn.preprocessing import StandardScaler\n",
    "subset = x[:, 3:5]\n",
    "scaler = StandardScaler()\n",
    "scaler.fit(subset)\n",
    "scaled_subset = scaler.transform(subset)\n",
    "x[:, 3:5] = scaled_subset\n",
    "\n",
    "print(\"original:\")\n",
    "display(x)\n"
   ]
  },
  {
   "cell_type": "markdown",
   "metadata": {
    "colab_type": "text",
    "id": "x8PABYut0i7y"
   },
   "source": [
    "## Dividir el data set \n",
    "En conjunto de entrenamiento y conjunto de testing"
   ]
  },
  {
   "cell_type": "code",
   "execution_count": 150,
   "metadata": {
    "colab": {},
    "colab_type": "code",
    "id": "oPVZUP870DoR"
   },
   "outputs": [
    {
     "data": {
      "text/plain": [
       "array([[1.000, 0.000, 1.000, -0.655, 0.177, 63776.000],\n",
       "       [0.000, 1.000, 0.000, -0.655, -0.258, inf],\n",
       "       [1.000, 0.000, 0.000, 1.528, -1.712, 48000.000],\n",
       "       [1.000, 0.000, 0.000, 1.528, 0.000, 52000.000],\n",
       "       [0.000, 1.000, 0.000, -0.655, 1.340, inf],\n",
       "       [1.000, 0.000, 0.000, 1.528, -0.113, 60992.000],\n",
       "       [0.000, 1.000, 0.000, -0.655, 0.759, inf],\n",
       "       [0.000, 1.000, 0.000, -0.655, -0.549, 57984.000]], dtype=float16)"
      ]
     },
     "metadata": {},
     "output_type": "display_data"
    },
    {
     "data": {
      "text/plain": [
       "array([[1.000, 0.000, 1.000, -0.655, -1.276, 54016.000],\n",
       "       [1.000, 0.000, 1.000, -0.655, 1.630, inf]], dtype=float16)"
      ]
     },
     "metadata": {},
     "output_type": "display_data"
    }
   ],
   "source": [
    "from sklearn.model_selection import train_test_split\n",
    "x_train, x_test, y_train, y_test = train_test_split(x, y, test_size = 0.2, random_state = 0)\n",
    "display(x_train)\n",
    "display(x_test)"
   ]
  }
 ],
 "metadata": {
  "colab": {
   "name": "data_preprocessing_template.ipynb",
   "provenance": [],
   "toc_visible": true
  },
  "kernelspec": {
   "display_name": "Python 3",
   "language": "python",
   "name": "python3"
  },
  "language_info": {
   "codemirror_mode": {
    "name": "ipython",
    "version": 3
   },
   "file_extension": ".py",
   "mimetype": "text/x-python",
   "name": "python",
   "nbconvert_exporter": "python",
   "pygments_lexer": "ipython3",
   "version": "3.10.12"
  }
 },
 "nbformat": 4,
 "nbformat_minor": 1
}
